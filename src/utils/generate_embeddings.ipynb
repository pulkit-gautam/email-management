{
 "cells": [
  {
   "cell_type": "code",
   "execution_count": 2,
   "metadata": {},
   "outputs": [],
   "source": [
    "import os\n",
    "from langchain.document_loaders import PyPDFLoader\n",
    "from langchain.embeddings import SentenceTransformerEmbeddings\n",
    "from langchain.vectorstores import Chroma\n",
    "from langchain.text_splitter import CharacterTextSplitter\n",
    "from tqdm import tqdm"
   ]
  },
  {
   "cell_type": "code",
   "execution_count": 3,
   "metadata": {},
   "outputs": [],
   "source": [
    "persist_directory=\"..//data//document_embeddings\""
   ]
  },
  {
   "cell_type": "code",
   "execution_count": 3,
   "metadata": {},
   "outputs": [
    {
     "name": "stderr",
     "output_type": "stream",
     "text": [
      "c:\\Users\\pulki\\anaconda3\\envs\\pytorch_env\\Lib\\site-packages\\sentence_transformers\\cross_encoder\\CrossEncoder.py:13: TqdmWarning: IProgress not found. Please update jupyter and ipywidgets. See https://ipywidgets.readthedocs.io/en/stable/user_install.html\n",
      "  from tqdm.autonotebook import tqdm, trange\n",
      "Adding Documents: 100%|██████████| 439/439 [00:15<00:00, 29.11it/s]\n"
     ]
    }
   ],
   "source": [
    "def create_embeddings():\n",
    "    DATA_PATH = \"../data/documents\"\n",
    "\n",
    "    embedding_function = SentenceTransformerEmbeddings(model_name=\"all-MiniLM-L6-v2\")\n",
    "    documents = []\n",
    "    \n",
    "    for filename in os.listdir(DATA_PATH):\n",
    "        if filename.endswith(\".pdf\"):\n",
    "            file_path = os.path.join(DATA_PATH, filename)\n",
    "            raw_documents = PyPDFLoader(file_path).load()\n",
    "            \n",
    "            splitter = CharacterTextSplitter(chunk_size=1500, chunk_overlap=200)\n",
    "            documents.extend(splitter.split_documents(raw_documents))\n",
    "    \n",
    "    db = Chroma.from_documents(documents[:2], embedding_function, persist_directory=persist_directory)\n",
    "    \n",
    "    for doc in tqdm(documents[2:], desc=\"Adding Documents\"):\n",
    "        db.add_documents(documents=[doc])\n",
    "    \n",
    "    db.persist()\n",
    "    db = None\n",
    "\n",
    "create_embeddings()"
   ]
  },
  {
   "cell_type": "code",
   "execution_count": 4,
   "metadata": {},
   "outputs": [
    {
     "name": "stderr",
     "output_type": "stream",
     "text": [
      "c:\\Users\\pulki\\anaconda3\\envs\\pytorch_env\\Lib\\site-packages\\sentence_transformers\\cross_encoder\\CrossEncoder.py:13: TqdmWarning: IProgress not found. Please update jupyter and ipywidgets. See https://ipywidgets.readthedocs.io/en/stable/user_install.html\n",
      "  from tqdm.autonotebook import tqdm, trange\n"
     ]
    }
   ],
   "source": [
    "model_kwargs = {'device': 'cuda'}\n",
    "embedding_function = SentenceTransformerEmbeddings(model_name=\"all-MiniLM-L6-v2\", model_kwargs=model_kwargs)\n",
    "\n",
    "vectordb = Chroma(persist_directory=persist_directory, embedding_function=embedding_function)\n",
    "resources = vectordb.similarity_search(\"Dear Sir, Could you update me on how many credits do I require for my CS graduation.\", k=3)"
   ]
  },
  {
   "cell_type": "code",
   "execution_count": 5,
   "metadata": {},
   "outputs": [
    {
     "data": {
      "text/plain": [
       "[Document(page_content='194. UNDERGRADUATE DEGREE REQUIREMENTS, REGULATIONS AND PROCEDURES\\n4.1 Overall Requirements\\n4.1.1 B.Tech.\\nThe total credit requirement for the B.Tech. (4-year programme) is 148-158 credits (exact requirement is discipline \\nspecific). The minimum and maximum number of registered semesters for graduation requirements are listed in \\nTable 8. For B.Tech. programmes, the total credits are distributed over following categories :\\n(a) Institute Core (IC):\\n • Basic Sciences (BS): Mathematics, Physics, Chemistry and Biology courses\\n • Engineering Arts and Science (EAS): Fundamental engineering courses\\n • Humanities and Social Sciences (HUSS): At least two courses to be taken in the 200 level  \\n and at least one course to be taken in the 300 level. Management Courses (MSL 3XX) are not  \\n counted under this category.\\n(b) Departmental Core (DC): courses of relevant discipline.\\n(c) Departmental Electives (DE): electives related to the parent discipline.\\n(d) Programme linked basic sciences/EAS (PL): additional BS/EAS courses that are specified by the department.\\n(e) Open Category (OC): electives can be taken outside or within the discipline; these credits can be used \\ntowards departmental specialization or minor area also (see Sec 4.6).\\n(f) Non-graded Core (NG) units: These are core requirements and can be earned through formal academic \\nactivity and informal co-curricular or extra-curricular activities.\\n4.1.2 B.Des.\\nThe total credit requirement for the B.Des. (4-year programme) is 149 credits. The minimum and maximum number \\nof registered semesters for graduation requirements are listed in Table 8. For B.Des. programmes, the total credits \\nare distributed over following categories:\\n(a) Institute Core (IC)\\n(b) Departmental Core (DC): courses of relevant discipline.\\n(c) Departmental Electives (DE): electives related to the parent discipline.\\n(d) Open Category (OC): electives can be taken outside or within the discipline.\\n(e) Non-graded Core (NG) units: These are core requirements and can be earned through formal academic \\nactivity and informal co-curricular or extra-curricular activities.\\n4.1.3 Dual degree programmes\\nThe total credit requirements for a dual degree programme would depend upon the credit requirements of the \\nB.Tech. and M.Tech. programmes that constitute the Dual Degree. The minimum credit requirement for the award \\nof Dual Degree would typically be 10 less than the total credits of the constituent B.Tech. and M.Tech. programmes. \\nThe B.Tech. requirements for a dual degree are same as that given in Section 4.1.1. The M.Tech. part is divided \\ninto two categories – Programme Core (PC) and Programme Elective (PE). The minimum and maximum number \\nof registered semesters for graduation requirements are listed in Table 8.\\n4.2 Breakup of Degree Requirements \\n4.2.1 Earned Credit Requirements for B.Tech.\\nThe minimum earned credit / unit requirements for B.Tech. degree are given in Table 5.\\nTable 5 : Degree Requirements of B.Tech. Programmes\\nCategory Symbol B.Tech. Requirements Remarks\\n1Institute Core  IC 58 Credits Common to all disciplines\\n2Programme Linked EAS/BS PL 0-15 Credits Discipline specific as decided by the Department\\n3Departmental core DC\\n65-80 with min. 10 as DE Discipline specific\\n4Departmental Elective DE\\n5Open Category OC 10 Credits Open to student’s choice\\n6Non-graded Core NG 11 units See Sec. 4.3\\nTotal 148-158 Credits +11 Non-graded units', metadata={'page': 25, 'source': '../data/documents\\\\Courses-of-Study-IITD.pdf'}),\n",
       " Document(page_content='Courses of Study  2022-20238500 level courses : Courses for M.Sc. programmes.\\n  These courses are not open to other students.\\n600 level courses : Preparatory/introductory courses for M.Tech. and advanced courses for M.Sc. \\nprogrammes. 500 and 600 level courses are normally not open to UG students.\\n700 - 800 level courses : Core and elective courses for M.Tech., M.Des., M.B.A., M.S.(Research) and Ph.D. \\nprogrammes. Usually 800 level courses are advanced courses for PG students.\\n2.2 Credit System\\nEducation at the Institute is organized around the semester-based credit system of study. A student is allowed to \\nattend classes in a course and earn credit for it, only if he/she has registered for that course. Prominent features \\nof the credit system are a process of continuous evaluation of a student’s performance/progress and flexibility to \\nallow a student to progress at an optimum pace suited to his/her ability or convenience, subject to fulfilling minimum \\nrequirements for continuation and within the maximum allowable period for completion of a degree.\\nA student’s performance/progress is measured by the number of credits that he/she has earned, i.e. completed \\nsatisfactorily. Based on the course credits and grades obtained by the student, grade point average is calculated. A \\nminimum grade point average is required to be maintained for satisfactory progress and continuation in the programme. \\nAlso, a minimum number of earned credits and a minimum grade point average should be acquired in order to qualify \\nfor the degree. All programmes are defined by the total credit requirement and a pattern of credit distribution over \\ncourses of different categories as defined in sections 4 and 5 for UG and PG programmes respectively.\\n2.3 Assignment of Credits to Courses\\nEach course has a certain number of credit(s) or non-graded unit(s) assigned to it depending upon its lecture, tutorial \\nand laboratory/practical contact hours in a week. This weightage is also indicative of the academic expectation that \\nincludes in-class contact and self-study outside class hours.\\nLectures and Tutorials : One lecture or tutorial hour per week over the period of one 14 week semester is \\nassigned one credit.\\nPractical/Practice : One laboratory/practice hour per week over the period of one 14 week semester is \\nassigned half credit.\\nA few courses are without credit and are counted under non-graded (NG) courses.\\nExample :  Course COL334 Computer Networks ; 4 credits (3-0-2)\\nThe credits indicated for this course are computed as follows:\\n3 hours/week lectures  = 3 credits\\n0 hours/week tutorial  = 0 credit   Total = 3 + 0 + 1 = 4 credits\\n2 hours/week practicals  = 2 × 0.5 = 1 credit \\nTotal contact hours for the course = (3 h Lectures + 0 h Tutorial + 2 h Practical) per week  \\n   = 5 contact hours per week for 14 weeks.\\nFor each lecture or tutorial credit, the self-study component is 1-2 hours/week (for 100-600 level courses) and 3 \\nhours/week (for 700-800 level courses). The self-study component for practicals is 1 hour for every two hours of \\npracticals per week. In the above example, the student is expected to devote a minimum of 3 + 1 = 4 hours per \\nweek on self-study in addition to class contact of 5 hours per week.\\n2.4 Earning Credits\\nAt the end of every semester, a letter grade is awarded in each course for which a student had registered. On \\nobtaining a pass grade, the student accumulates the course credits as earned credits. An undergraduate student \\nhas the option of auditing some courses within the credit requirements for graduation. Grades obtained in audit \\ncourses are not counted for computing of grade point average. However, a pass grade is essential for earning \\ncredits from an audit course. Section 2.9 defines the letter grades awarded at IIT Delhi and specifies the minimum \\ngrade for passing a course.', metadata={'page': 14, 'source': '../data/documents\\\\Courses-of-Study-IITD.pdf'}),\n",
       " Document(page_content='14 \\nCurriculum  and Credit  Framework  for Undergraduate  Programmes   \\n \\n a. Major and Minor Courses:  \\nAll discipline -specific courses (major or minor) may be 4 credits or as appropriate. An \\nadditional one to two credits may be allotted for tutorials or practicals.  \\n \\nb. Other Courses:  \\nAll courses under the Multi -disciplinary, Ability Enhancement (language), and  Skill \\nEnhancement categories may be of 3 -credits or as appropriate;  \\n \\nc. Common Value -Added Courses:  \\nCourses under Value Added, Summer Internship/ Apprenticeship/ Community \\noutreach activities, etc., for all majors, may be of 2 -credits or as appropriate;  \\n \\nd. Final year Research project / Dissertation etc., may be of 12 credits.  \\n \\nTables 2 and 3 in the following sections provide the minimum credit requirements \\nunder each category and the distribution of course levels across 6/8 semesters.  \\n \\n3.3  Eligibility for the UG Programmes  \\n \\nSenior Secondary School Leaving Certificate or Higher Secondary (12th Grade) \\nCertificate obtained after successful completion of Grade 12 or equivalent stage of \\neducation corresponding to Level -4. \\n \\n3.4  Duration of the Pr ogramme  \\n \\ni. The duration of the UG programme is 4 years or 8 semesters. Students who desire \\nto undergo a 3 -year UG Programme will be allowed to exit after completion of the \\n3rd year.  If a student wants to leave after the completion of the first or second yea r, \\nthe student will be given a UG Certificate or UG Diploma, respectively, provided \\nthey secure the prescribed number of credits (as given in table 3). Students who \\nexit with a UG certificate or UG diploma are permitted to re -enter within three years \\nand c omplete the degree programme.  \\n \\nii. Students may be permitted to take a break from the study during the period of \\nstudy but the total duration for completing the programme shall not exceed 7 years.  \\n \\n \\n4.0.  Outcomes -based approach to higher education  \\n \\nThe National Higher Education Qualifications Framework (NHEQF)  envisages  that students  must \\npossess the quality and characteristics of the graduate of a programme  of study, including \\nlearning outcomes relating to the disciplinary area(s) in the chosen field(s) of learning and', metadata={'page': 13, 'source': '../data/documents\\\\UGC_minimum_credits.pdf'})]"
      ]
     },
     "execution_count": 5,
     "metadata": {},
     "output_type": "execute_result"
    }
   ],
   "source": [
    "resources"
   ]
  },
  {
   "cell_type": "code",
   "execution_count": null,
   "metadata": {},
   "outputs": [],
   "source": []
  }
 ],
 "metadata": {
  "kernelspec": {
   "display_name": "pytorch_env",
   "language": "python",
   "name": "python3"
  },
  "language_info": {
   "codemirror_mode": {
    "name": "ipython",
    "version": 3
   },
   "file_extension": ".py",
   "mimetype": "text/x-python",
   "name": "python",
   "nbconvert_exporter": "python",
   "pygments_lexer": "ipython3",
   "version": "3.11.7"
  }
 },
 "nbformat": 4,
 "nbformat_minor": 2
}
